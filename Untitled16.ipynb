{
 "cells": [
  {
   "cell_type": "code",
   "execution_count": 3,
   "metadata": {},
   "outputs": [
    {
     "name": "stdout",
     "output_type": "stream",
     "text": [
      "Question? (yes or no)yes\n",
      "Yes\n"
     ]
    }
   ],
   "source": [
    "def question():\n",
    "    i = 0\n",
    "    while i < 2:\n",
    "        answer = input(\"Question? (yes or no)\")\n",
    "        if any(answer.lower() == f for f in [\"yes\", 'y', '1', 'ye']):\n",
    "            print(\"Yes\")\n",
    "            break\n",
    "        elif any(answer.lower() == f for f in ['no', 'n', '0']):\n",
    "            print(\"No\")\n",
    "            break\n",
    "        else:\n",
    "            i += 1\n",
    "            if i < 2:\n",
    "                print('Please enter yes or no')\n",
    "            else:\n",
    "                print(\"Nothing done\")\n",
    "\n",
    "\n",
    "question()"
   ]
  },
  {
   "cell_type": "code",
   "execution_count": 12,
   "metadata": {},
   "outputs": [
    {
     "ename": "IndentationError",
     "evalue": "expected an indented block (<ipython-input-12-32894ea9914d>, line 4)",
     "output_type": "error",
     "traceback": [
      "\u001b[1;36m  File \u001b[1;32m\"<ipython-input-12-32894ea9914d>\"\u001b[1;36m, line \u001b[1;32m4\u001b[0m\n\u001b[1;33m    elif answer ==\"no\":\u001b[0m\n\u001b[1;37m       ^\u001b[0m\n\u001b[1;31mIndentationError\u001b[0m\u001b[1;31m:\u001b[0m expected an indented block\n"
     ]
    }
   ],
   "source": [
    "answer = input(\"Enter yes or no:\") \n",
    "if answer == \"yes\": \n",
    "\n",
    "elif answer ==\"no\": \n",
    "     \n",
    "else: \n",
    "    print(\"Please enter yes or no.\") \n"
   ]
  },
  {
   "cell_type": "code",
   "execution_count": null,
   "metadata": {},
   "outputs": [],
   "source": []
  },
  {
   "cell_type": "code",
   "execution_count": null,
   "metadata": {},
   "outputs": [],
   "source": []
  }
 ],
 "metadata": {
  "kernelspec": {
   "display_name": "Python 3",
   "language": "python",
   "name": "python3"
  },
  "language_info": {
   "codemirror_mode": {
    "name": "ipython",
    "version": 3
   },
   "file_extension": ".py",
   "mimetype": "text/x-python",
   "name": "python",
   "nbconvert_exporter": "python",
   "pygments_lexer": "ipython3",
   "version": "3.7.4"
  }
 },
 "nbformat": 4,
 "nbformat_minor": 2
}
